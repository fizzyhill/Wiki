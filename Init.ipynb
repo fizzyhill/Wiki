{
 "cells": [
  {
   "cell_type": "code",
   "execution_count": 2,
   "metadata": {},
   "outputs": [
    {
     "name": "stdout",
     "output_type": "stream",
     "text": [
      "Requirement already satisfied: pywikibot in /Users/fizzyhill/anaconda3/lib/python3.6/site-packages\n",
      "Requirement already satisfied: requests!=2.18.2,>=2.9 in /Users/fizzyhill/anaconda3/lib/python3.6/site-packages (from pywikibot)\n",
      "Requirement already satisfied: chardet<3.1.0,>=3.0.2 in /Users/fizzyhill/anaconda3/lib/python3.6/site-packages (from requests!=2.18.2,>=2.9->pywikibot)\n",
      "Requirement already satisfied: idna<2.7,>=2.5 in /Users/fizzyhill/anaconda3/lib/python3.6/site-packages (from requests!=2.18.2,>=2.9->pywikibot)\n",
      "Requirement already satisfied: urllib3<1.23,>=1.21.1 in /Users/fizzyhill/anaconda3/lib/python3.6/site-packages (from requests!=2.18.2,>=2.9->pywikibot)\n",
      "Requirement already satisfied: certifi>=2017.4.17 in /Users/fizzyhill/anaconda3/lib/python3.6/site-packages (from requests!=2.18.2,>=2.9->pywikibot)\n"
     ]
    }
   ],
   "source": [
    "%%sh\n",
    "pip install pywikibot"
   ]
  },
  {
   "cell_type": "code",
   "execution_count": 1,
   "metadata": {
    "collapsed": true
   },
   "outputs": [],
   "source": [
    "#complete initial config before importing pywikibot\n",
    "#manual available here: https://www.mediawiki.org/wiki/Manual:Pywikibot/user-config.py\n",
    "import pywikibot"
   ]
  },
  {
   "cell_type": "code",
   "execution_count": 2,
   "metadata": {
    "collapsed": true
   },
   "outputs": [],
   "source": [
    "site = pywikibot.Site('en', 'wikipedia') \n",
    "page = pywikibot.Page(site, u'Mike_Cernovich')"
   ]
  },
  {
   "cell_type": "code",
   "execution_count": 3,
   "metadata": {},
   "outputs": [
    {
     "data": {
      "text/plain": [
       "\"Neptune's Trident\""
      ]
     },
     "execution_count": 3,
     "metadata": {},
     "output_type": "execute_result"
    }
   ],
   "source": [
    "#documentation for pulling revisions from page\n",
    "#https://doc.wikimedia.org/pywikibot/api_ref/pywikibot.html#module-pywikibot.page\n",
    "#relevant methods: command+f \"revisions\"?\n",
    "page.oldest_revision['user']"
   ]
  },
  {
   "cell_type": "code",
   "execution_count": 4,
   "metadata": {},
   "outputs": [
    {
     "data": {
      "text/plain": [
       "'Milleniumtree'"
      ]
     },
     "execution_count": 4,
     "metadata": {},
     "output_type": "execute_result"
    }
   ],
   "source": [
    "page.lastNonBotUser()"
   ]
  },
  {
   "cell_type": "code",
   "execution_count": 8,
   "metadata": {},
   "outputs": [
    {
     "data": {
      "text/plain": [
       "1101"
      ]
     },
     "execution_count": 8,
     "metadata": {},
     "output_type": "execute_result"
    }
   ],
   "source": [
    "page.revision_count()"
   ]
  },
  {
   "cell_type": "code",
   "execution_count": 144,
   "metadata": {},
   "outputs": [
    {
     "data": {
      "text/plain": [
       "[('Red marquis', 102),\n",
       " ('Somedifferentstuff', 77),\n",
       " ('Emir of Wikipedia', 76),\n",
       " ('Grayfell', 71),\n",
       " (\"Neptune's Trident\", 69),\n",
       " ('DrFleischman', 58),\n",
       " ('KalHolmann', 22),\n",
       " ('Dimadick', 20),\n",
       " ('71.241.146.253', 19),\n",
       " ('Steeletrap', 18),\n",
       " ('BoogaLouie', 16),\n",
       " ('Calton', 15),\n",
       " ('James J. Lambden', 15),\n",
       " ('Volunteer Marek', 14),\n",
       " ('JJMC89', 13),\n",
       " ('AnomieBOT', 11),\n",
       " ('50.234.90.226', 11),\n",
       " ('Drmies', 10),\n",
       " ('Charles lindberg', 9),\n",
       " ('Bryochemist', 8)]"
      ]
     },
     "execution_count": 144,
     "metadata": {},
     "output_type": "execute_result"
    }
   ],
   "source": [
    "c=page.contributors()\n",
    "c.most_common(20)"
   ]
  },
  {
   "cell_type": "code",
   "execution_count": 167,
   "metadata": {},
   "outputs": [],
   "source": [
    "user=pywikibot.User(site,title='71.241.146.253')"
   ]
  },
  {
   "cell_type": "code",
   "execution_count": 168,
   "metadata": {},
   "outputs": [
    {
     "data": {
      "text/plain": [
       "[]"
      ]
     },
     "execution_count": 168,
     "metadata": {},
     "output_type": "execute_result"
    }
   ],
   "source": [
    "user.groups()"
   ]
  },
  {
   "cell_type": "code",
   "execution_count": 169,
   "metadata": {
    "collapsed": true
   },
   "outputs": [],
   "source": [
    "ctrbns=user.contributions()"
   ]
  },
  {
   "cell_type": "code",
   "execution_count": 170,
   "metadata": {},
   "outputs": [
    {
     "data": {
      "text/plain": [
       "(Page('Muhammad Saeed al-Sahhaf'),\n",
       " 761619451,\n",
       " Timestamp(2017, 1, 23, 22, 26, 14),\n",
       " '')"
      ]
     },
     "execution_count": 170,
     "metadata": {},
     "output_type": "execute_result"
    }
   ],
   "source": [
    "next(ctrbns)"
   ]
  },
  {
   "cell_type": "code",
   "execution_count": 171,
   "metadata": {},
   "outputs": [
    {
     "name": "stdout",
     "output_type": "stream",
     "text": [
      "[[Page('Mike Cernovich'),\n",
      "  756185856,\n",
      "  Timestamp(2016, 12, 22, 15, 27, 1),\n",
      "  'Undid revision 756097470 by [[Special:Contributions/Arkon|Arkon]] ([[User '\n",
      "  'talk:Arkon|talk]])'],\n",
      " [Page('Mike Cernovich'), 756077375, Timestamp(2016, 12, 21, 21, 30, 53), ''],\n",
      " [Page('Mike Cernovich'),\n",
      "  756077161,\n",
      "  Timestamp(2016, 12, 21, 21, 29, 21),\n",
      "  '/* Writing career */'],\n",
      " [Page('Mike Cernovich'),\n",
      "  756077124,\n",
      "  Timestamp(2016, 12, 21, 21, 29, 6),\n",
      "  '/* Writing career */'],\n",
      " [Page('Mike Cernovich'),\n",
      "  756076871,\n",
      "  Timestamp(2016, 12, 21, 21, 27, 8),\n",
      "  '/* Writing career */'],\n",
      " [Page('Mike Cernovich'),\n",
      "  756076783,\n",
      "  Timestamp(2016, 12, 21, 21, 26, 26),\n",
      "  '/* Writing career */'],\n",
      " [Page('Mike Cernovich'),\n",
      "  756076701,\n",
      "  Timestamp(2016, 12, 21, 21, 25, 51),\n",
      "  '/* Writing career */'],\n",
      " [Page('Mike Cernovich'), 756076537, Timestamp(2016, 12, 21, 21, 24, 37), ''],\n",
      " [Page('Mike Cernovich'), 756076395, Timestamp(2016, 12, 21, 21, 23, 35), ''],\n",
      " [Page('Mike Cernovich'), 756076311, Timestamp(2016, 12, 21, 21, 23, 3), ''],\n",
      " [Page('Mike Cernovich'), 756076212, Timestamp(2016, 12, 21, 21, 22, 16), ''],\n",
      " [Page('Mike Cernovich'), 756076157, Timestamp(2016, 12, 21, 21, 21, 50), ''],\n",
      " [Page('Mike Cernovich'), 756076103, Timestamp(2016, 12, 21, 21, 21, 28), ''],\n",
      " [Page('Mike Cernovich'), 756075557, Timestamp(2016, 12, 21, 21, 17, 43), ''],\n",
      " [Page('Mike Cernovich'), 756075495, Timestamp(2016, 12, 21, 21, 17, 21), ''],\n",
      " [Page('Mike Cernovich'),\n",
      "  756074930,\n",
      "  Timestamp(2016, 12, 21, 21, 13),\n",
      "  '/* Personal life */'],\n",
      " [Page('Mike Cernovich'),\n",
      "  756074865,\n",
      "  Timestamp(2016, 12, 21, 21, 12, 31),\n",
      "  '/* Personal life */'],\n",
      " [Page('Mike Cernovich'), 756074690, Timestamp(2016, 12, 21, 21, 11, 15), ''],\n",
      " [Page('Mike Cernovich'), 756074623, Timestamp(2016, 12, 21, 21, 10, 48), ''],\n",
      " [Page('Burj Khalifa'),\n",
      "  146343635,\n",
      "  Timestamp(2007, 7, 22, 17, 2, 6),\n",
      "  '/* The competition */'],\n",
      " [Page('Rick Perry'),\n",
      "  144537565,\n",
      "  Timestamp(2007, 7, 14, 3, 45, 15),\n",
      "  '/* Early life */'],\n",
      " [Page('Shia LaBeouf'),\n",
      "  143119339,\n",
      "  Timestamp(2007, 7, 7, 16, 41, 22),\n",
      "  '/* Career */'],\n",
      " [Page('Shaha Riza'),\n",
      "  131861898,\n",
      "  Timestamp(2007, 5, 18, 20, 51, 56),\n",
      "  '/* Background */']]\n"
     ]
    }
   ],
   "source": [
    "lst=[]\n",
    "for entry in ctrbns:\n",
    "    e=list(entry)\n",
    "    lst.append(e)\n",
    "\n",
    "import pprint\n",
    "pprint.pprint(lst)"
   ]
  },
  {
   "cell_type": "code",
   "execution_count": null,
   "metadata": {
    "collapsed": true
   },
   "outputs": [],
   "source": []
  }
 ],
 "metadata": {
  "kernelspec": {
   "display_name": "Python 3",
   "language": "python",
   "name": "python3"
  },
  "language_info": {
   "codemirror_mode": {
    "name": "ipython",
    "version": 3
   },
   "file_extension": ".py",
   "mimetype": "text/x-python",
   "name": "python",
   "nbconvert_exporter": "python",
   "pygments_lexer": "ipython3",
   "version": "3.6.3"
  }
 },
 "nbformat": 4,
 "nbformat_minor": 2
}
