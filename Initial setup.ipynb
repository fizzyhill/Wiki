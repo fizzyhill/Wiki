{
 "cells": [
  {
   "cell_type": "code",
   "execution_count": 1,
   "metadata": {},
   "outputs": [
    {
     "name": "stdout",
     "output_type": "stream",
     "text": [
      "Collecting pywikibot\n",
      "  Downloading pywikibot-3.0.20180304.tar.gz (490kB)\n",
      "Requirement already satisfied: requests!=2.18.2,>=2.9 in /Users/fizzyhill/anaconda3/lib/python3.6/site-packages (from pywikibot)\n",
      "Requirement already satisfied: chardet<3.1.0,>=3.0.2 in /Users/fizzyhill/anaconda3/lib/python3.6/site-packages (from requests!=2.18.2,>=2.9->pywikibot)\n",
      "Requirement already satisfied: idna<2.7,>=2.5 in /Users/fizzyhill/anaconda3/lib/python3.6/site-packages (from requests!=2.18.2,>=2.9->pywikibot)\n",
      "Requirement already satisfied: urllib3<1.23,>=1.21.1 in /Users/fizzyhill/anaconda3/lib/python3.6/site-packages (from requests!=2.18.2,>=2.9->pywikibot)\n",
      "Requirement already satisfied: certifi>=2017.4.17 in /Users/fizzyhill/anaconda3/lib/python3.6/site-packages (from requests!=2.18.2,>=2.9->pywikibot)\n",
      "Building wheels for collected packages: pywikibot\n",
      "  Running setup.py bdist_wheel for pywikibot: started\n",
      "  Running setup.py bdist_wheel for pywikibot: finished with status 'done'\n",
      "  Stored in directory: /Users/fizzyhill/Library/Caches/pip/wheels/a2/3f/d2/da027349178af27bb883570bcacf2fab21a520aa1692940a26\n",
      "Successfully built pywikibot\n",
      "Installing collected packages: pywikibot\n",
      "Successfully installed pywikibot-3.0.dev0\n"
     ]
    },
    {
     "name": "stderr",
     "output_type": "stream",
     "text": [
      "You are using pip version 9.0.1, however version 9.0.3 is available.\n",
      "You should consider upgrading via the 'pip install --upgrade pip' command.\n"
     ]
    }
   ],
   "source": [
    "%%sh\n",
    "pip install pywikibot"
   ]
  },
  {
   "cell_type": "code",
   "execution_count": 3,
   "metadata": {},
   "outputs": [
    {
     "name": "stdout",
     "output_type": "stream",
     "text": [
      "Collecting pip\n",
      "  Downloading pip-9.0.3-py2.py3-none-any.whl (1.4MB)\n",
      "Installing collected packages: pip\n",
      "  Found existing installation: pip 9.0.1\n",
      "    Uninstalling pip-9.0.1:\n",
      "      Successfully uninstalled pip-9.0.1\n",
      "Successfully installed pip-9.0.3\n"
     ]
    }
   ],
   "source": [
    "%%sh\n",
    "pip install --upgrade pip"
   ]
  },
  {
   "cell_type": "code",
   "execution_count": 7,
   "metadata": {},
   "outputs": [],
   "source": [
    "import pywikibot"
   ]
  },
  {
   "cell_type": "code",
   "execution_count": 13,
   "metadata": {
    "collapsed": true
   },
   "outputs": [],
   "source": [
    "site = pywikibot.Site('en', 'wikipedia') \n",
    "page = pywikibot.Page(site, u'Mike_Cernovich')"
   ]
  },
  {
   "cell_type": "code",
   "execution_count": 14,
   "metadata": {},
   "outputs": [
    {
     "data": {
      "text/plain": [
       "832579771"
      ]
     },
     "execution_count": 14,
     "metadata": {},
     "output_type": "execute_result"
    }
   ],
   "source": [
    "page.latest_revision_id"
   ]
  },
  {
   "cell_type": "code",
   "execution_count": null,
   "metadata": {
    "collapsed": true
   },
   "outputs": [],
   "source": []
  }
 ],
 "metadata": {
  "kernelspec": {
   "display_name": "Python 3",
   "language": "python",
   "name": "python3"
  },
  "language_info": {
   "codemirror_mode": {
    "name": "ipython",
    "version": 3
   },
   "file_extension": ".py",
   "mimetype": "text/x-python",
   "name": "python",
   "nbconvert_exporter": "python",
   "pygments_lexer": "ipython3",
   "version": "3.6.3"
  }
 },
 "nbformat": 4,
 "nbformat_minor": 2
}
