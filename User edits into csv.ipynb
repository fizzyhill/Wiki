{
 "cells": [
  {
   "cell_type": "code",
   "execution_count": 1,
   "metadata": {
    "collapsed": true
   },
   "outputs": [],
   "source": [
    "import pywikibot\n",
    "site = pywikibot.Site('en', 'wikipedia') "
   ]
  },
  {
   "cell_type": "code",
   "execution_count": 6,
   "metadata": {},
   "outputs": [],
   "source": [
    "page = pywikibot.Page(site, u'White_supremacy')\n",
    "c=page.contributors()"
   ]
  },
  {
   "cell_type": "code",
   "execution_count": 7,
   "metadata": {},
   "outputs": [
    {
     "data": {
      "text/plain": [
       "['Music man214',\n",
       " '167.99.105.132',\n",
       " 'James Crusade',\n",
       " '72.48.201.232',\n",
       " 'Borinquen9312',\n",
       " 'Ninjoust',\n",
       " 'Alexb102072',\n",
       " 'Krissmethod',\n",
       " 'BB Septure',\n",
       " 'Campista1891',\n",
       " 'Deciduous Maple',\n",
       " 'BT Curry',\n",
       " 'Mynizzlefashizzle6458',\n",
       " 'BeautyIslam',\n",
       " '207.157.127.33',\n",
       " 'StaplesLover',\n",
       " 'JohnW1992',\n",
       " 'Biglittlebang1',\n",
       " 'Hillbillyholiday',\n",
       " 'Alfie Gandon',\n",
       " 'Sleeping is fun',\n",
       " 'Poopoohockashoo',\n",
       " 'DRodgers11',\n",
       " 'RufusTheEditor',\n",
       " 'SSSSSSh',\n",
       " 'IsrabatTrof',\n",
       " 'WisconsinPat',\n",
       " 'The Almightey Drill',\n",
       " 'The Wikipedia Messiah',\n",
       " 'TruckFump',\n",
       " 'UncleTomCarson',\n",
       " 'Connor Machiavelli',\n",
       " '64.251.52.250',\n",
       " 'Tinywc111',\n",
       " 'Article editor',\n",
       " 'Daquan Retard',\n",
       " 'RyanTQuinn',\n",
       " '145.102.242.29',\n",
       " 'Herve Reex',\n",
       " 'Carlos Rojas77',\n",
       " 'Gob Lofa',\n",
       " 'KevinFrom',\n",
       " 'Olehal09',\n",
       " 'Verarsch',\n",
       " \"The Devil's Advocate\",\n",
       " 'Timothycrice',\n",
       " 'Secret1234word',\n",
       " 'Louis69king',\n",
       " '173.219.48.26',\n",
       " 'Yourgrandmalovesme',\n",
       " '192.136.22.4',\n",
       " 'Windows66',\n",
       " 'DrCaffeine5000',\n",
       " 'Asdkjg',\n",
       " '72.10.122.69',\n",
       " 'Rowdykiller',\n",
       " 'TomFreeman96',\n",
       " '207.28.120.253',\n",
       " 'BallSinMouth666',\n",
       " '216.169.169.60',\n",
       " 'Linchking123',\n",
       " 'Kevin1321xxxt',\n",
       " 'JohnC',\n",
       " '170.185.36.19',\n",
       " 'Rrrrr5',\n",
       " 'Jnast1',\n",
       " '166.109.0.113',\n",
       " 'Chzz',\n",
       " 'Tj1994jan',\n",
       " 'DASHBot',\n",
       " 'Difluoroethene',\n",
       " 'Ruckersville101',\n",
       " 'Fred the Oyster',\n",
       " 'Hatred666',\n",
       " 'Duckingthefog',\n",
       " 'Nomegustapantalones',\n",
       " 'Shamhat456',\n",
       " '166.113.0.98',\n",
       " 'Hank Ramsey',\n",
       " 'Horizons123',\n",
       " 'Madden NFL 21',\n",
       " 'Davish Krail, Gold Five',\n",
       " '205.123.251.62',\n",
       " 'SuaveArt',\n",
       " 'Roflcopter6996111',\n",
       " 'Badmachine',\n",
       " 'Cdm1991',\n",
       " 'Michael93555',\n",
       " 'ScHoOlThAtFoOl',\n",
       " 'Husseinnoterrorist',\n",
       " 'Erik9',\n",
       " 'SOS48',\n",
       " 'EveryDayJoe45',\n",
       " 'Fulanoflagger',\n",
       " '198.237.70.194',\n",
       " 'Friscogomez',\n",
       " 'Taurusx5',\n",
       " 'Werdnawerdna',\n",
       " 'Nukeless',\n",
       " 'Ooojazzaooo',\n",
       " 'Emex4',\n",
       " 'Thegoodson',\n",
       " 'Lishowronsakura',\n",
       " 'Jeremy221',\n",
       " 'AryeitskiySaldat',\n",
       " 'Rennagata92',\n",
       " 'Type 40',\n",
       " 'Andrew Steller',\n",
       " 'Aestheticguitar',\n",
       " 'Callmarcus',\n",
       " 'John254',\n",
       " 'Centrx',\n",
       " 'EamonnPKeane',\n",
       " '204.13.204.162',\n",
       " '207.233.27.2',\n",
       " 'New Jack Swing',\n",
       " '141.76.45.35',\n",
       " 'Grazon',\n",
       " 'Hans Moravec',\n",
       " 'Willywingwangdoodle',\n",
       " 'Potters house',\n",
       " 'Falconleaf',\n",
       " 'Shimmera',\n",
       " 'Qrc2006',\n",
       " 'Jerry Jones',\n",
       " 'Minutemaid~enwiki',\n",
       " '209.43.33.220',\n",
       " '165.138.19.8',\n",
       " '221.133.205.155',\n",
       " 'Bluebot',\n",
       " 'Ud terrorist',\n",
       " 'DannyZz',\n",
       " 'RickK',\n",
       " 'Megan1967',\n",
       " '166.109.0.145',\n",
       " 'Conversion script']"
      ]
     },
     "execution_count": 7,
     "metadata": {},
     "output_type": "execute_result"
    }
   ],
   "source": [
    "blocked=[]\n",
    "for user in c:\n",
    "    if pywikibot.User(site,title=user).isBlocked()==True:\n",
    "        blocked.append(user)\n",
    "    \n",
    "blocked"
   ]
  },
  {
   "cell_type": "code",
   "execution_count": 8,
   "metadata": {
    "collapsed": true
   },
   "outputs": [],
   "source": [
    "user=pywikibot.User(site,title='Difluoroethene')\n",
    "user_contributions=user.contributions()"
   ]
  },
  {
   "cell_type": "code",
   "execution_count": 9,
   "metadata": {},
   "outputs": [
    {
     "data": {
      "text/plain": [
       "32"
      ]
     },
     "execution_count": 9,
     "metadata": {},
     "output_type": "execute_result"
    }
   ],
   "source": [
    "from csv import writer, reader\n",
    "csv_file = open('Difluoroethene.csv', 'a')\n",
    "csv_writer = writer(csv_file)\n",
    "header = ['page', 'edit_id','timestamp','summary']\n",
    "csv_writer.writerow(header)"
   ]
  },
  {
   "cell_type": "code",
   "execution_count": 10,
   "metadata": {
    "collapsed": true
   },
   "outputs": [],
   "source": [
    "for entry in user_contributions:\n",
    "    csv_writer.writerow(entry)"
   ]
  },
  {
   "cell_type": "code",
   "execution_count": null,
   "metadata": {
    "collapsed": true
   },
   "outputs": [],
   "source": []
  }
 ],
 "metadata": {
  "kernelspec": {
   "display_name": "Python 3",
   "language": "python",
   "name": "python3"
  },
  "language_info": {
   "codemirror_mode": {
    "name": "ipython",
    "version": 3
   },
   "file_extension": ".py",
   "mimetype": "text/x-python",
   "name": "python",
   "nbconvert_exporter": "python",
   "pygments_lexer": "ipython3",
   "version": "3.6.3"
  }
 },
 "nbformat": 4,
 "nbformat_minor": 2
}
