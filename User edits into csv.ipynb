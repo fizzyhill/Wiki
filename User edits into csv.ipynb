{
 "cells": [
  {
   "cell_type": "code",
   "execution_count": 1,
   "metadata": {
    "collapsed": true
   },
   "outputs": [],
   "source": [
    "import pywikibot\n",
    "site = pywikibot.Site('en', 'wikipedia') "
   ]
  },
  {
   "cell_type": "code",
   "execution_count": 2,
   "metadata": {
    "collapsed": true
   },
   "outputs": [],
   "source": [
    "page = pywikibot.Page(site, u'White_supremacy')\n",
    "c=page.contributors()"
   ]
  },
  {
   "cell_type": "code",
   "execution_count": 3,
   "metadata": {},
   "outputs": [
    {
     "data": {
      "text/plain": [
       "['Music man214',\n",
       " '167.99.105.132',\n",
       " 'James Crusade',\n",
       " '72.48.201.232',\n",
       " 'Borinquen9312',\n",
       " 'Ninjoust',\n",
       " 'Alexb102072',\n",
       " 'Krissmethod',\n",
       " 'BB Septure',\n",
       " 'Campista1891',\n",
       " 'Deciduous Maple',\n",
       " 'BT Curry',\n",
       " 'Mynizzlefashizzle6458',\n",
       " 'BeautyIslam',\n",
       " '207.157.127.33',\n",
       " 'StaplesLover',\n",
       " 'JohnW1992',\n",
       " 'Biglittlebang1',\n",
       " 'Hillbillyholiday',\n",
       " 'Alfie Gandon',\n",
       " 'Sleeping is fun',\n",
       " 'Poopoohockashoo',\n",
       " 'DRodgers11',\n",
       " 'RufusTheEditor',\n",
       " 'SSSSSSh',\n",
       " 'IsrabatTrof',\n",
       " 'WisconsinPat',\n",
       " 'The Almightey Drill',\n",
       " 'The Wikipedia Messiah',\n",
       " 'TruckFump',\n",
       " 'UncleTomCarson',\n",
       " 'Connor Machiavelli',\n",
       " '64.251.52.250',\n",
       " 'Tinywc111',\n",
       " 'Article editor',\n",
       " 'Daquan Retard',\n",
       " 'RyanTQuinn',\n",
       " '145.102.242.29',\n",
       " 'Herve Reex',\n",
       " 'Carlos Rojas77',\n",
       " 'Gob Lofa',\n",
       " 'KevinFrom',\n",
       " 'Olehal09',\n",
       " 'Verarsch',\n",
       " \"The Devil's Advocate\",\n",
       " 'Timothycrice',\n",
       " 'Secret1234word',\n",
       " 'Louis69king',\n",
       " '173.219.48.26',\n",
       " 'Yourgrandmalovesme',\n",
       " '192.136.22.4',\n",
       " 'Windows66',\n",
       " 'DrCaffeine5000',\n",
       " 'Asdkjg',\n",
       " '72.10.122.69',\n",
       " 'Rowdykiller',\n",
       " 'TomFreeman96',\n",
       " '207.28.120.253',\n",
       " 'BallSinMouth666',\n",
       " '216.169.169.60',\n",
       " 'Linchking123',\n",
       " 'Kevin1321xxxt',\n",
       " 'JohnC',\n",
       " '170.185.36.19',\n",
       " 'Rrrrr5',\n",
       " 'Jnast1',\n",
       " '166.109.0.113',\n",
       " 'Chzz',\n",
       " 'Tj1994jan',\n",
       " 'DASHBot',\n",
       " 'Difluoroethene',\n",
       " 'Ruckersville101',\n",
       " 'Fred the Oyster',\n",
       " 'Hatred666',\n",
       " 'Duckingthefog',\n",
       " 'Nomegustapantalones',\n",
       " 'Shamhat456',\n",
       " '166.113.0.98',\n",
       " 'Hank Ramsey',\n",
       " 'Horizons123',\n",
       " 'Madden NFL 21',\n",
       " 'Davish Krail, Gold Five',\n",
       " '205.123.251.62',\n",
       " 'SuaveArt',\n",
       " 'Roflcopter6996111',\n",
       " 'Badmachine',\n",
       " 'Cdm1991',\n",
       " 'Michael93555',\n",
       " 'ScHoOlThAtFoOl',\n",
       " 'Husseinnoterrorist',\n",
       " 'Erik9',\n",
       " 'SOS48',\n",
       " 'EveryDayJoe45',\n",
       " 'Fulanoflagger',\n",
       " '198.237.70.194',\n",
       " 'Friscogomez',\n",
       " 'Taurusx5',\n",
       " 'Werdnawerdna',\n",
       " 'Nukeless',\n",
       " 'Ooojazzaooo',\n",
       " 'Emex4',\n",
       " 'Thegoodson',\n",
       " 'Lishowronsakura',\n",
       " 'Jeremy221',\n",
       " 'AryeitskiySaldat',\n",
       " 'Rennagata92',\n",
       " 'Type 40',\n",
       " 'Andrew Steller',\n",
       " 'Aestheticguitar',\n",
       " 'Callmarcus',\n",
       " 'John254',\n",
       " 'Centrx',\n",
       " 'EamonnPKeane',\n",
       " '204.13.204.162',\n",
       " '207.233.27.2',\n",
       " 'New Jack Swing',\n",
       " '141.76.45.35',\n",
       " 'Grazon',\n",
       " 'Hans Moravec',\n",
       " 'Willywingwangdoodle',\n",
       " 'Potters house',\n",
       " 'Falconleaf',\n",
       " 'Shimmera',\n",
       " 'Qrc2006',\n",
       " 'Jerry Jones',\n",
       " 'Minutemaid~enwiki',\n",
       " '209.43.33.220',\n",
       " '165.138.19.8',\n",
       " '221.133.205.155',\n",
       " 'Bluebot',\n",
       " 'Ud terrorist',\n",
       " 'DannyZz',\n",
       " 'RickK',\n",
       " 'Megan1967',\n",
       " '166.109.0.145',\n",
       " 'Conversion script']"
      ]
     },
     "execution_count": 3,
     "metadata": {},
     "output_type": "execute_result"
    }
   ],
   "source": [
    "blocked=[]\n",
    "for user in c:\n",
    "    if pywikibot.User(site,title=user).isBlocked()==True:\n",
    "        blocked.append(user)\n",
    "    \n",
    "blocked"
   ]
  },
  {
   "cell_type": "markdown",
   "metadata": {},
   "source": [
    "This API is insanely slow so I'm writing everything into a csv."
   ]
  },
  {
   "cell_type": "code",
   "execution_count": 6,
   "metadata": {},
   "outputs": [
    {
     "data": {
      "text/plain": [
       "16"
      ]
     },
     "execution_count": 6,
     "metadata": {},
     "output_type": "execute_result"
    }
   ],
   "source": [
    "from csv import writer, reader\n",
    "csv_file = open('WS blocked contributors.csv', 'a')\n",
    "csv_writer = writer(csv_file)\n",
    "header = ['username', 'edits']\n",
    "csv_writer.writerow(header)"
   ]
  },
  {
   "cell_type": "code",
   "execution_count": 5,
   "metadata": {
    "collapsed": true
   },
   "outputs": [],
   "source": [
    "for user in blocked:\n",
    "    edits=pywikibot.User(site,title=user).editCount()\n",
    "    row = [user,edits]\n",
    "    csv_writer.writerow(row)"
   ]
  },
  {
   "cell_type": "code",
   "execution_count": 9,
   "metadata": {},
   "outputs": [
    {
     "data": {
      "text/html": [
       "<div>\n",
       "<style>\n",
       "    .dataframe thead tr:only-child th {\n",
       "        text-align: right;\n",
       "    }\n",
       "\n",
       "    .dataframe thead th {\n",
       "        text-align: left;\n",
       "    }\n",
       "\n",
       "    .dataframe tbody tr th {\n",
       "        vertical-align: top;\n",
       "    }\n",
       "</style>\n",
       "<table border=\"1\" class=\"dataframe\">\n",
       "  <thead>\n",
       "    <tr style=\"text-align: right;\">\n",
       "      <th></th>\n",
       "      <th>username</th>\n",
       "      <th>edits</th>\n",
       "    </tr>\n",
       "  </thead>\n",
       "  <tbody>\n",
       "    <tr>\n",
       "      <th>94</th>\n",
       "      <td>198.237.70.194</td>\n",
       "      <td>0</td>\n",
       "    </tr>\n",
       "    <tr>\n",
       "      <th>113</th>\n",
       "      <td>204.13.204.162</td>\n",
       "      <td>0</td>\n",
       "    </tr>\n",
       "    <tr>\n",
       "      <th>114</th>\n",
       "      <td>207.233.27.2</td>\n",
       "      <td>0</td>\n",
       "    </tr>\n",
       "    <tr>\n",
       "      <th>116</th>\n",
       "      <td>141.76.45.35</td>\n",
       "      <td>0</td>\n",
       "    </tr>\n",
       "    <tr>\n",
       "      <th>37</th>\n",
       "      <td>145.102.242.29</td>\n",
       "      <td>0</td>\n",
       "    </tr>\n",
       "    <tr>\n",
       "      <th>59</th>\n",
       "      <td>216.169.169.60</td>\n",
       "      <td>0</td>\n",
       "    </tr>\n",
       "    <tr>\n",
       "      <th>82</th>\n",
       "      <td>205.123.251.62</td>\n",
       "      <td>0</td>\n",
       "    </tr>\n",
       "    <tr>\n",
       "      <th>14</th>\n",
       "      <td>207.157.127.33</td>\n",
       "      <td>0</td>\n",
       "    </tr>\n",
       "    <tr>\n",
       "      <th>63</th>\n",
       "      <td>170.185.36.19</td>\n",
       "      <td>0</td>\n",
       "    </tr>\n",
       "    <tr>\n",
       "      <th>50</th>\n",
       "      <td>192.136.22.4</td>\n",
       "      <td>0</td>\n",
       "    </tr>\n",
       "    <tr>\n",
       "      <th>...</th>\n",
       "      <td>...</td>\n",
       "      <td>...</td>\n",
       "    </tr>\n",
       "    <tr>\n",
       "      <th>18</th>\n",
       "      <td>Hillbillyholiday</td>\n",
       "      <td>20570</td>\n",
       "    </tr>\n",
       "    <tr>\n",
       "      <th>112</th>\n",
       "      <td>EamonnPKeane</td>\n",
       "      <td>22498</td>\n",
       "    </tr>\n",
       "    <tr>\n",
       "      <th>90</th>\n",
       "      <td>Erik9</td>\n",
       "      <td>30314</td>\n",
       "    </tr>\n",
       "    <tr>\n",
       "      <th>132</th>\n",
       "      <td>RickK</td>\n",
       "      <td>36836</td>\n",
       "    </tr>\n",
       "    <tr>\n",
       "      <th>111</th>\n",
       "      <td>Centrx</td>\n",
       "      <td>37287</td>\n",
       "    </tr>\n",
       "    <tr>\n",
       "      <th>110</th>\n",
       "      <td>John254</td>\n",
       "      <td>42562</td>\n",
       "    </tr>\n",
       "    <tr>\n",
       "      <th>27</th>\n",
       "      <td>The Almightey Drill</td>\n",
       "      <td>64516</td>\n",
       "    </tr>\n",
       "    <tr>\n",
       "      <th>67</th>\n",
       "      <td>Chzz</td>\n",
       "      <td>115890</td>\n",
       "    </tr>\n",
       "    <tr>\n",
       "      <th>69</th>\n",
       "      <td>DASHBot</td>\n",
       "      <td>318263</td>\n",
       "    </tr>\n",
       "    <tr>\n",
       "      <th>129</th>\n",
       "      <td>Bluebot</td>\n",
       "      <td>349597</td>\n",
       "    </tr>\n",
       "  </tbody>\n",
       "</table>\n",
       "<p>136 rows × 2 columns</p>\n",
       "</div>"
      ],
      "text/plain": [
       "                username   edits\n",
       "94        198.237.70.194       0\n",
       "113       204.13.204.162       0\n",
       "114         207.233.27.2       0\n",
       "116         141.76.45.35       0\n",
       "37        145.102.242.29       0\n",
       "59        216.169.169.60       0\n",
       "82        205.123.251.62       0\n",
       "14        207.157.127.33       0\n",
       "63         170.185.36.19       0\n",
       "50          192.136.22.4       0\n",
       "..                   ...     ...\n",
       "18      Hillbillyholiday   20570\n",
       "112         EamonnPKeane   22498\n",
       "90                 Erik9   30314\n",
       "132                RickK   36836\n",
       "111               Centrx   37287\n",
       "110              John254   42562\n",
       "27   The Almightey Drill   64516\n",
       "67                  Chzz  115890\n",
       "69               DASHBot  318263\n",
       "129              Bluebot  349597\n",
       "\n",
       "[136 rows x 2 columns]"
      ]
     },
     "execution_count": 9,
     "metadata": {},
     "output_type": "execute_result"
    }
   ],
   "source": [
    "from pandas import set_option, read_csv\n",
    "set_option('display.max_rows', 20)\n",
    "blockedusers=read_csv('WS blocked contributors.csv')\n",
    "blockedusers.sort_values('edits')"
   ]
  },
  {
   "cell_type": "markdown",
   "metadata": {},
   "source": [
    "How come there are editors with zero edits??"
   ]
  },
  {
   "cell_type": "code",
   "execution_count": 14,
   "metadata": {
    "collapsed": true
   },
   "outputs": [],
   "source": [
    "user=pywikibot.User(site,title='198.237.70.194')\n",
    "user_contributions=user.contributions()"
   ]
  },
  {
   "cell_type": "code",
   "execution_count": 15,
   "metadata": {},
   "outputs": [
    {
     "data": {
      "text/plain": [
       "32"
      ]
     },
     "execution_count": 15,
     "metadata": {},
     "output_type": "execute_result"
    }
   ],
   "source": [
    "from csv import writer, reader\n",
    "csv_file = open('198.237.70.194.csv', 'a')\n",
    "csv_writer = writer(csv_file)\n",
    "header = ['page', 'edit_id','timestamp','summary']\n",
    "csv_writer.writerow(header)"
   ]
  },
  {
   "cell_type": "code",
   "execution_count": 12,
   "metadata": {
    "collapsed": true
   },
   "outputs": [],
   "source": [
    "for entry in user_contributions:\n",
    "    csv_writer.writerow(entry)"
   ]
  },
  {
   "cell_type": "code",
   "execution_count": null,
   "metadata": {
    "collapsed": true
   },
   "outputs": [],
   "source": []
  }
 ],
 "metadata": {
  "kernelspec": {
   "display_name": "Python 3",
   "language": "python",
   "name": "python3"
  },
  "language_info": {
   "codemirror_mode": {
    "name": "ipython",
    "version": 3
   },
   "file_extension": ".py",
   "mimetype": "text/x-python",
   "name": "python",
   "nbconvert_exporter": "python",
   "pygments_lexer": "ipython3",
   "version": "3.6.3"
  }
 },
 "nbformat": 4,
 "nbformat_minor": 2
}
