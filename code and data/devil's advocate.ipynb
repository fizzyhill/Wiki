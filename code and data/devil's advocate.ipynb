{
 "cells": [
  {
   "cell_type": "code",
   "execution_count": 5,
   "metadata": {
    "collapsed": true
   },
   "outputs": [],
   "source": [
    "import pandas as pd"
   ]
  },
  {
   "cell_type": "code",
   "execution_count": 96,
   "metadata": {},
   "outputs": [
    {
     "data": {
      "text/html": [
       "<div>\n",
       "<style>\n",
       "    .dataframe thead tr:only-child th {\n",
       "        text-align: right;\n",
       "    }\n",
       "\n",
       "    .dataframe thead th {\n",
       "        text-align: left;\n",
       "    }\n",
       "\n",
       "    .dataframe tbody tr th {\n",
       "        vertical-align: top;\n",
       "    }\n",
       "</style>\n",
       "<table border=\"1\" class=\"dataframe\">\n",
       "  <thead>\n",
       "    <tr style=\"text-align: right;\">\n",
       "      <th></th>\n",
       "      <th>page</th>\n",
       "      <th>edit_id</th>\n",
       "      <th>timestamp</th>\n",
       "      <th>summary</th>\n",
       "    </tr>\n",
       "  </thead>\n",
       "  <tbody>\n",
       "    <tr>\n",
       "      <th>0</th>\n",
       "      <td>User talk:The Devil's Advocate</td>\n",
       "      <td>684315518</td>\n",
       "      <td>2015-10-05T21:48:44Z</td>\n",
       "      <td>/* If you want a picture of the future, imagin...</td>\n",
       "    </tr>\n",
       "    <tr>\n",
       "      <th>1</th>\n",
       "      <td>User talk:The Devil's Advocate</td>\n",
       "      <td>683888860</td>\n",
       "      <td>2015-10-03T04:50:01Z</td>\n",
       "      <td>/* If you want a picture of the future, imagin...</td>\n",
       "    </tr>\n",
       "    <tr>\n",
       "      <th>2</th>\n",
       "      <td>User talk:The Devil's Advocate</td>\n",
       "      <td>683851188</td>\n",
       "      <td>2015-10-02T22:44:46Z</td>\n",
       "      <td>/* If you want a picture of the future, imagin...</td>\n",
       "    </tr>\n",
       "    <tr>\n",
       "      <th>3</th>\n",
       "      <td>User talk:The Devil's Advocate</td>\n",
       "      <td>683851129</td>\n",
       "      <td>2015-10-02T22:44:15Z</td>\n",
       "      <td>/* If you want a picture of the future, imagin...</td>\n",
       "    </tr>\n",
       "    <tr>\n",
       "      <th>4</th>\n",
       "      <td>User talk:The Devil's Advocate</td>\n",
       "      <td>683736243</td>\n",
       "      <td>2015-10-02T04:52:28Z</td>\n",
       "      <td>/* If you want a picture of the future, imagin...</td>\n",
       "    </tr>\n",
       "  </tbody>\n",
       "</table>\n",
       "</div>"
      ],
      "text/plain": [
       "                             page    edit_id             timestamp  \\\n",
       "0  User talk:The Devil's Advocate  684315518  2015-10-05T21:48:44Z   \n",
       "1  User talk:The Devil's Advocate  683888860  2015-10-03T04:50:01Z   \n",
       "2  User talk:The Devil's Advocate  683851188  2015-10-02T22:44:46Z   \n",
       "3  User talk:The Devil's Advocate  683851129  2015-10-02T22:44:15Z   \n",
       "4  User talk:The Devil's Advocate  683736243  2015-10-02T04:52:28Z   \n",
       "\n",
       "                                             summary  \n",
       "0  /* If you want a picture of the future, imagin...  \n",
       "1  /* If you want a picture of the future, imagin...  \n",
       "2  /* If you want a picture of the future, imagin...  \n",
       "3  /* If you want a picture of the future, imagin...  \n",
       "4  /* If you want a picture of the future, imagin...  "
      ]
     },
     "execution_count": 96,
     "metadata": {},
     "output_type": "execute_result"
    }
   ],
   "source": [
    "df=pd.read_csv(\"The Devil's Advocate-clean.csv\")\n",
    "df.head()"
   ]
  },
  {
   "cell_type": "code",
   "execution_count": 97,
   "metadata": {},
   "outputs": [],
   "source": [
    "df=df[df['page'].str.contains('User talk:')==False]"
   ]
  },
  {
   "cell_type": "code",
   "execution_count": 98,
   "metadata": {},
   "outputs": [],
   "source": [
    "df=df[df['page'].str.contains('Talk:')==False]"
   ]
  },
  {
   "cell_type": "code",
   "execution_count": 99,
   "metadata": {
    "collapsed": true
   },
   "outputs": [],
   "source": [
    "df=df[df['page'].str.contains('Wikipedia:')==False]"
   ]
  },
  {
   "cell_type": "code",
   "execution_count": 100,
   "metadata": {},
   "outputs": [],
   "source": [
    "df=df[df['page'].str.contains('User:')==False]"
   ]
  },
  {
   "cell_type": "code",
   "execution_count": 101,
   "metadata": {
    "collapsed": true
   },
   "outputs": [],
   "source": [
    "df=df[df['page'].str.contains('Wikipedia talk:')==False]"
   ]
  },
  {
   "cell_type": "code",
   "execution_count": 102,
   "metadata": {},
   "outputs": [],
   "source": [
    "df=df['page'].value_counts()"
   ]
  },
  {
   "cell_type": "code",
   "execution_count": 103,
   "metadata": {},
   "outputs": [],
   "source": [
    "df.to_csv(path=\"Devil's Advocate Pages.csv\", index=True, sep=',', na_rep='', float_format=None, header=False, index_label=None, mode='w', encoding=None, date_format=None, decimal='.')"
   ]
  },
  {
   "cell_type": "code",
   "execution_count": null,
   "metadata": {
    "collapsed": true
   },
   "outputs": [],
   "source": []
  }
 ],
 "metadata": {
  "kernelspec": {
   "display_name": "Python 3",
   "language": "python",
   "name": "python3"
  },
  "language_info": {
   "codemirror_mode": {
    "name": "ipython",
    "version": 3
   },
   "file_extension": ".py",
   "mimetype": "text/x-python",
   "name": "python",
   "nbconvert_exporter": "python",
   "pygments_lexer": "ipython3",
   "version": "3.6.3"
  }
 },
 "nbformat": 4,
 "nbformat_minor": 2
}
