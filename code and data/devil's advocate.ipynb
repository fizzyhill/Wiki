{
 "cells": [
  {
   "cell_type": "code",
   "execution_count": 1,
   "metadata": {
    "collapsed": true
   },
   "outputs": [],
   "source": [
    "import pandas as pd"
   ]
  },
  {
   "cell_type": "code",
   "execution_count": 50,
   "metadata": {},
   "outputs": [
    {
     "data": {
      "text/html": [
       "<div>\n",
       "<style>\n",
       "    .dataframe thead tr:only-child th {\n",
       "        text-align: right;\n",
       "    }\n",
       "\n",
       "    .dataframe thead th {\n",
       "        text-align: left;\n",
       "    }\n",
       "\n",
       "    .dataframe tbody tr th {\n",
       "        vertical-align: top;\n",
       "    }\n",
       "</style>\n",
       "<table border=\"1\" class=\"dataframe\">\n",
       "  <thead>\n",
       "    <tr style=\"text-align: right;\">\n",
       "      <th></th>\n",
       "      <th>page</th>\n",
       "      <th>edit_id</th>\n",
       "      <th>timestamp</th>\n",
       "      <th>summary</th>\n",
       "    </tr>\n",
       "  </thead>\n",
       "  <tbody>\n",
       "    <tr>\n",
       "      <th>0</th>\n",
       "      <td>User talk:The Devil's Advocate</td>\n",
       "      <td>684315518</td>\n",
       "      <td>2015-10-05 21:48:44</td>\n",
       "      <td>/* If you want a picture of the future, imagin...</td>\n",
       "    </tr>\n",
       "    <tr>\n",
       "      <th>1</th>\n",
       "      <td>User talk:The Devil's Advocate</td>\n",
       "      <td>683888860</td>\n",
       "      <td>2015-10-03 04:50:01</td>\n",
       "      <td>/* If you want a picture of the future, imagin...</td>\n",
       "    </tr>\n",
       "    <tr>\n",
       "      <th>2</th>\n",
       "      <td>User talk:The Devil's Advocate</td>\n",
       "      <td>683851188</td>\n",
       "      <td>2015-10-02 22:44:46</td>\n",
       "      <td>/* If you want a picture of the future, imagin...</td>\n",
       "    </tr>\n",
       "    <tr>\n",
       "      <th>3</th>\n",
       "      <td>User talk:The Devil's Advocate</td>\n",
       "      <td>683851129</td>\n",
       "      <td>2015-10-02 22:44:15</td>\n",
       "      <td>/* If you want a picture of the future, imagin...</td>\n",
       "    </tr>\n",
       "    <tr>\n",
       "      <th>4</th>\n",
       "      <td>User talk:The Devil's Advocate</td>\n",
       "      <td>683736243</td>\n",
       "      <td>2015-10-02 04:52:28</td>\n",
       "      <td>/* If you want a picture of the future, imagin...</td>\n",
       "    </tr>\n",
       "  </tbody>\n",
       "</table>\n",
       "</div>"
      ],
      "text/plain": [
       "                             page    edit_id            timestamp  \\\n",
       "0  User talk:The Devil's Advocate  684315518  2015-10-05 21:48:44   \n",
       "1  User talk:The Devil's Advocate  683888860  2015-10-03 04:50:01   \n",
       "2  User talk:The Devil's Advocate  683851188  2015-10-02 22:44:46   \n",
       "3  User talk:The Devil's Advocate  683851129  2015-10-02 22:44:15   \n",
       "4  User talk:The Devil's Advocate  683736243  2015-10-02 04:52:28   \n",
       "\n",
       "                                             summary  \n",
       "0  /* If you want a picture of the future, imagin...  \n",
       "1  /* If you want a picture of the future, imagin...  \n",
       "2  /* If you want a picture of the future, imagin...  \n",
       "3  /* If you want a picture of the future, imagin...  \n",
       "4  /* If you want a picture of the future, imagin...  "
      ]
     },
     "execution_count": 50,
     "metadata": {},
     "output_type": "execute_result"
    }
   ],
   "source": [
    "df=pd.read_csv(\"The Devil's Advocate-clean.csv\")\n",
    "df.head()"
   ]
  },
  {
   "cell_type": "code",
   "execution_count": 51,
   "metadata": {},
   "outputs": [],
   "source": [
    "df=df[df['page'].str.contains('User talk:')==False]"
   ]
  },
  {
   "cell_type": "code",
   "execution_count": 52,
   "metadata": {},
   "outputs": [],
   "source": [
    "df=df[df['page'].str.contains('Talk:')==False]"
   ]
  },
  {
   "cell_type": "code",
   "execution_count": 53,
   "metadata": {
    "collapsed": true
   },
   "outputs": [],
   "source": [
    "df=df[df['page'].str.contains('Wikipedia:')==False]"
   ]
  },
  {
   "cell_type": "code",
   "execution_count": 54,
   "metadata": {
    "collapsed": true
   },
   "outputs": [],
   "source": [
    "df=df[df['page'].str.contains('User:')==False]"
   ]
  },
  {
   "cell_type": "code",
   "execution_count": 55,
   "metadata": {
    "collapsed": true
   },
   "outputs": [],
   "source": [
    "df=df[df['page'].str.contains('Wikipedia talk:')==False]"
   ]
  },
  {
   "cell_type": "code",
   "execution_count": 23,
   "metadata": {
    "collapsed": true
   },
   "outputs": [],
   "source": [
    "df.to_csv(path_or_buf=\"The Devil's Advocate-cleanedup.csv\", sep=',', na_rep='', float_format=None, columns=None, header=True, index=False, index_label=None, mode='w', encoding=None, compression=None, quoting=None, quotechar='\"', line_terminator='\\n', chunksize=None, tupleize_cols=None, date_format=None, doublequote=True, escapechar=None, decimal='.')"
   ]
  },
  {
   "cell_type": "code",
   "execution_count": 56,
   "metadata": {},
   "outputs": [
    {
     "data": {
      "text/plain": [
       "North American Union                                  124\n",
       "RWBY                                                  107\n",
       "Krista Branch                                          92\n",
       "Gamergate controversy                                  70\n",
       "List of RWBY episodes                                  68\n",
       "7 World Trade Center                                   62\n",
       "9/11 conspiracy theories                               56\n",
       "List of Pretty Little Liars characters                 56\n",
       "September 11 attacks                                   51\n",
       "Great Recession                                        47\n",
       "Zeitgeist: The Movie                                   46\n",
       "Violentacrez                                           45\n",
       "Wikimedia UK                                           42\n",
       "Kosovo independence precedent                          38\n",
       "List of RWBY characters                                36\n",
       "Giordano's Pizzeria                                    35\n",
       "Lee Harvey Oswald                                      34\n",
       "The Host (2013 film)                                   33\n",
       "2008 Andean diplomatic crisis                          31\n",
       "2008 Russo-Georgian diplomatic crisis                  30\n",
       "The Fine Young Capitalists                             29\n",
       "1948 Arab–Israeli War                                  28\n",
       "International recognition of Kosovo                    27\n",
       "Deaths in 2013                                         26\n",
       "Hayley Williams                                        25\n",
       "Sosie Bacon                                            25\n",
       "Emily Thorne                                           25\n",
       "Bai Yansong                                            23\n",
       "Alicia Keys                                            23\n",
       "Bad Girls Club (season 10)                             22\n",
       "                                                     ... \n",
       "Cheese analogue                                         1\n",
       "Diana-Maria Riva                                        1\n",
       "Rochdale child sex abuse ring                           1\n",
       "Saeed Abedini                                           1\n",
       "Race and crime in the United States                     1\n",
       "Indoctrination                                          1\n",
       "Squatting position                                      1\n",
       "List of Sabrina: The Animated Series episodes           1\n",
       "Christopher Lee                                         1\n",
       "Desmond Miles                                           1\n",
       "Nazi Germany                                            1\n",
       "Elizabeth Symons, Baroness Symons of Vernham Dean       1\n",
       "Michel Temer                                            1\n",
       "Vojvodina provincial election, 2008                     1\n",
       "Mark Vaile                                              1\n",
       "Capricorn Coast National Park                           1\n",
       "Leigh High School                                       1\n",
       "Qilin in popular culture                                1\n",
       "Lake Michigan                                           1\n",
       "Asuka Langley Soryu                                     1\n",
       "Aniplex of America                                      1\n",
       "Whose Line Is It Anyway? (U.S. TV series)               1\n",
       "Howell, Michigan                                        1\n",
       "Taylor Cole                                             1\n",
       "Alden Ehrenreich                                        1\n",
       "Template:Did you know nominations/Melaleuca nodosa      1\n",
       "Andrew Niccol                                           1\n",
       "Giovanni Di Stefano (businessman)                       1\n",
       "Adam Sessler                                            1\n",
       "Stacy Keibler                                           1\n",
       "Name: page, Length: 3564, dtype: int64"
      ]
     },
     "execution_count": 56,
     "metadata": {},
     "output_type": "execute_result"
    }
   ],
   "source": [
    "df=df['page'].value_counts()\n",
    "df"
   ]
  },
  {
   "cell_type": "code",
   "execution_count": 58,
   "metadata": {},
   "outputs": [],
   "source": [
    "df.to_csv(path=\"Devil's Advocate Pages.csv\", index=True, sep=',', na_rep='', float_format=None, header=True, index_label=None, mode='w', encoding=None, date_format=None, decimal='.')"
   ]
  },
  {
   "cell_type": "code",
   "execution_count": 2,
   "metadata": {},
   "outputs": [
    {
     "data": {
      "text/html": [
       "<div>\n",
       "<style>\n",
       "    .dataframe thead tr:only-child th {\n",
       "        text-align: right;\n",
       "    }\n",
       "\n",
       "    .dataframe thead th {\n",
       "        text-align: left;\n",
       "    }\n",
       "\n",
       "    .dataframe tbody tr th {\n",
       "        vertical-align: top;\n",
       "    }\n",
       "</style>\n",
       "<table border=\"1\" class=\"dataframe\">\n",
       "  <thead>\n",
       "    <tr style=\"text-align: right;\">\n",
       "      <th></th>\n",
       "      <th>page</th>\n",
       "      <th>edits</th>\n",
       "    </tr>\n",
       "  </thead>\n",
       "  <tbody>\n",
       "    <tr>\n",
       "      <th>0</th>\n",
       "      <td>North American Union</td>\n",
       "      <td>124</td>\n",
       "    </tr>\n",
       "    <tr>\n",
       "      <th>1</th>\n",
       "      <td>RWBY</td>\n",
       "      <td>107</td>\n",
       "    </tr>\n",
       "    <tr>\n",
       "      <th>2</th>\n",
       "      <td>Krista Branch</td>\n",
       "      <td>92</td>\n",
       "    </tr>\n",
       "    <tr>\n",
       "      <th>3</th>\n",
       "      <td>Gamergate controversy</td>\n",
       "      <td>70</td>\n",
       "    </tr>\n",
       "    <tr>\n",
       "      <th>4</th>\n",
       "      <td>List of RWBY episodes</td>\n",
       "      <td>68</td>\n",
       "    </tr>\n",
       "  </tbody>\n",
       "</table>\n",
       "</div>"
      ],
      "text/plain": [
       "                    page  edits\n",
       "0   North American Union    124\n",
       "1                   RWBY    107\n",
       "2          Krista Branch     92\n",
       "3  Gamergate controversy     70\n",
       "4  List of RWBY episodes     68"
      ]
     },
     "execution_count": 2,
     "metadata": {},
     "output_type": "execute_result"
    }
   ],
   "source": [
    "pages=pd.read_csv(\"Devil's Advocate Pages.csv\")\n",
    "pages.head()"
   ]
  },
  {
   "cell_type": "code",
   "execution_count": 71,
   "metadata": {},
   "outputs": [],
   "source": [
    "pages=pages[pages['edits']>=10]\n",
    "pages.to_csv(path_or_buf=\"Devil's Advocate Pages-new.csv\", sep=',', na_rep='', float_format=None, columns=None, header=True, index=False, index_label=None, mode='w', encoding=None, compression=None, quoting=None, quotechar='\"', line_terminator='\\n', chunksize=None, tupleize_cols=None, date_format=None, doublequote=True, escapechar=None, decimal='.')"
   ]
  },
  {
   "cell_type": "code",
   "execution_count": 3,
   "metadata": {},
   "outputs": [
    {
     "data": {
      "text/plain": [
       "169"
      ]
     },
     "execution_count": 3,
     "metadata": {},
     "output_type": "execute_result"
    }
   ],
   "source": [
    "pages=pd.read_csv(\"Devil's Advocate Pages-new.csv\")\n",
    "len(pages)"
   ]
  },
  {
   "cell_type": "code",
   "execution_count": 4,
   "metadata": {
    "collapsed": true
   },
   "outputs": [],
   "source": [
    "import pywikibot\n",
    "site = pywikibot.Site('en', 'wikipedia') "
   ]
  },
  {
   "cell_type": "code",
   "execution_count": null,
   "metadata": {
    "collapsed": true
   },
   "outputs": [],
   "source": [
    "total=[]\n",
    "for row in pages['page']:\n",
    "    page=pywikibot.Page(site,row)\n",
    "    total.append(page.revision_count())\n",
    "total"
   ]
  },
  {
   "cell_type": "code",
   "execution_count": 7,
   "metadata": {},
   "outputs": [
    {
     "data": {
      "text/plain": [
       "169"
      ]
     },
     "execution_count": 7,
     "metadata": {},
     "output_type": "execute_result"
    }
   ],
   "source": [
    "len(total)"
   ]
  },
  {
   "cell_type": "code",
   "execution_count": 8,
   "metadata": {},
   "outputs": [],
   "source": [
    "pages['total']=total"
   ]
  },
  {
   "cell_type": "code",
   "execution_count": 9,
   "metadata": {
    "collapsed": true
   },
   "outputs": [],
   "source": [
    "pages.to_csv(path_or_buf=\"Devil's Advocate Pages-new.csv\", sep=',', na_rep='', float_format=None, columns=None, header=True, index=False, index_label=None, mode='w', encoding=None, compression=None, quoting=None, quotechar='\"', line_terminator='\\n', chunksize=None, tupleize_cols=None, date_format=None, doublequote=True, escapechar=None, decimal='.')"
   ]
  },
  {
   "cell_type": "code",
   "execution_count": 17,
   "metadata": {},
   "outputs": [
    {
     "data": {
      "text/plain": [
       "['7.95',\n",
       " '5.39',\n",
       " '42.99',\n",
       " '1.17',\n",
       " '5.16',\n",
       " '1.88',\n",
       " '0.43',\n",
       " '1.20',\n",
       " '0.27',\n",
       " '1.07',\n",
       " '1.15',\n",
       " '28.85',\n",
       " '21.21',\n",
       " '9.05',\n",
       " '2.12',\n",
       " '19.34',\n",
       " '0.37',\n",
       " '4.76',\n",
       " '3.38',\n",
       " '7.52',\n",
       " '8.10',\n",
       " '0.45',\n",
       " '0.26',\n",
       " '0.12',\n",
       " '0.53',\n",
       " '15.15',\n",
       " '4.85',\n",
       " '32.39',\n",
       " '0.26',\n",
       " '0.74',\n",
       " '0.16',\n",
       " '19.63',\n",
       " '15.91',\n",
       " '3.03',\n",
       " '0.41',\n",
       " '1.54',\n",
       " '0.43',\n",
       " '0.28',\n",
       " '0.91',\n",
       " '0.34',\n",
       " '27.14',\n",
       " '0.64',\n",
       " '18.81',\n",
       " '0.15',\n",
       " '2.86',\n",
       " '0.59',\n",
       " '0.37',\n",
       " '18.95',\n",
       " '0.32',\n",
       " '0.12',\n",
       " '1.22',\n",
       " '23.08',\n",
       " '0.30',\n",
       " '0.28',\n",
       " '4.02',\n",
       " '40.00',\n",
       " '0.26',\n",
       " '0.19',\n",
       " '2.25',\n",
       " '0.80',\n",
       " '0.30',\n",
       " '0.73',\n",
       " '0.32',\n",
       " '0.46',\n",
       " '0.13',\n",
       " '0.31',\n",
       " '0.65',\n",
       " '0.70',\n",
       " '0.34',\n",
       " '0.46',\n",
       " '0.20',\n",
       " '0.42',\n",
       " '29.09',\n",
       " '0.42',\n",
       " '0.49',\n",
       " '0.12',\n",
       " '3.55',\n",
       " '0.33',\n",
       " '0.25',\n",
       " '0.37',\n",
       " '0.30',\n",
       " '1.01',\n",
       " '0.28',\n",
       " '0.99',\n",
       " '0.92',\n",
       " '2.89',\n",
       " '0.50',\n",
       " '0.54',\n",
       " '0.31',\n",
       " '0.18',\n",
       " '0.45',\n",
       " '0.68',\n",
       " '0.28',\n",
       " '0.86',\n",
       " '0.07',\n",
       " '0.44',\n",
       " '0.49',\n",
       " '0.21',\n",
       " '8.33',\n",
       " '0.34',\n",
       " '0.16',\n",
       " '0.83',\n",
       " '0.35',\n",
       " '0.58',\n",
       " '0.87',\n",
       " '0.29',\n",
       " '0.46',\n",
       " '0.28',\n",
       " '0.38',\n",
       " '0.45',\n",
       " '0.33',\n",
       " '2.44',\n",
       " '0.33',\n",
       " '0.60',\n",
       " '0.14',\n",
       " '0.10',\n",
       " '0.16',\n",
       " '22.22',\n",
       " '0.25',\n",
       " '0.29',\n",
       " '0.25',\n",
       " '0.16',\n",
       " '11.54',\n",
       " '0.10',\n",
       " '0.24',\n",
       " '0.46',\n",
       " '0.73',\n",
       " '0.29',\n",
       " '0.49',\n",
       " '0.19',\n",
       " '0.94',\n",
       " '4.15',\n",
       " '0.29',\n",
       " '0.39',\n",
       " '8.27',\n",
       " '0.10',\n",
       " '0.20',\n",
       " '0.19',\n",
       " '0.22',\n",
       " '0.09',\n",
       " '0.15',\n",
       " '0.16',\n",
       " '0.19',\n",
       " '0.45',\n",
       " '0.36',\n",
       " '0.21',\n",
       " '0.10',\n",
       " '0.37',\n",
       " '0.26',\n",
       " '0.31',\n",
       " '0.10',\n",
       " '0.12',\n",
       " '0.38',\n",
       " '0.15',\n",
       " '10.00',\n",
       " '0.49',\n",
       " '0.21',\n",
       " '0.16',\n",
       " '0.11',\n",
       " '1.27',\n",
       " '0.20',\n",
       " '4.67',\n",
       " '41.67',\n",
       " '0.34',\n",
       " '0.67',\n",
       " '0.25',\n",
       " '1.36',\n",
       " '0.43',\n",
       " '0.13']"
      ]
     },
     "execution_count": 17,
     "metadata": {},
     "output_type": "execute_result"
    }
   ],
   "source": [
    "percent=[]\n",
    "for i in range(169):\n",
    "    percent.append(\"{0:.2f}\".format(round(pages['edits'][i]/pages['total'][i]*100,2)))\n",
    "\n",
    "percent"
   ]
  },
  {
   "cell_type": "code",
   "execution_count": 18,
   "metadata": {
    "collapsed": true
   },
   "outputs": [],
   "source": [
    "pages['percent']=percent"
   ]
  },
  {
   "cell_type": "code",
   "execution_count": 19,
   "metadata": {
    "collapsed": true
   },
   "outputs": [],
   "source": [
    "pages.to_csv(path_or_buf=\"Devil's Advocate Pages-new.csv\", sep=',', na_rep='', float_format=None, columns=None, header=True, index=False, index_label=None, mode='w', encoding=None, compression=None, quoting=None, quotechar='\"', line_terminator='\\n', chunksize=None, tupleize_cols=None, date_format=None, doublequote=True, escapechar=None, decimal='.')"
   ]
  },
  {
   "cell_type": "code",
   "execution_count": 76,
   "metadata": {},
   "outputs": [
    {
     "data": {
      "text/html": [
       "<iframe id=\"igraph\" scrolling=\"no\" style=\"border:none;\" seamless=\"seamless\" src=\"https://plot.ly/~fizzyhill/18.embed\" height=\"600px\" width=\"800px\"></iframe>"
      ],
      "text/plain": [
       "<plotly.tools.PlotlyDisplay object>"
      ]
     },
     "execution_count": 76,
     "metadata": {},
     "output_type": "execute_result"
    }
   ],
   "source": [
    "from plotly.plotly import iplot, sign_in\n",
    "import plotly.graph_objs as go \n",
    "import plotly.plotly as py\n",
    "import math\n",
    "import random\n",
    "\n",
    "sign_in(\"\",\"\")\n",
    "\n",
    "hover_text = []\n",
    "bubble_size = []\n",
    "color = []\n",
    "\n",
    "for index, row in pages.iterrows():\n",
    "    hover_text.append(row['page'] + '<br>' + str(row['edits']) + \" edits <br>\" + str(row['percent']) + \"% of edits\")\n",
    "                      \n",
    "    bubble_size.append(math.sqrt(row['edits']**3/100))\n",
    "    if row['edits'] >= 50:\n",
    "        color.append('rgb(229, 107, 0)')\n",
    "    elif row['edits'] >= 20:\n",
    "        color.append('rgb(255, 159, 76)')\n",
    "    else:\n",
    "        color.append('rgb(255, 185, 76)')\n",
    "        \n",
    "pages['text'] = hover_text\n",
    "pages['size'] = bubble_size\n",
    "pages['color'] = color\n",
    "sizeref = 2.*max(pages['size'])/(75**2)\n",
    "\n",
    "bubble = go.Scatter(\n",
    "    y=pages['edits'],\n",
    "    x=pages['percent'],\n",
    "    mode='markers',\n",
    "    text=pages['text'],\n",
    "    marker=dict(\n",
    "        symbol='circle',\n",
    "        sizemode='area',\n",
    "        sizeref=sizeref,\n",
    "        color=pages['color'],\n",
    "        size=pages['size'],\n",
    "        line=dict(\n",
    "            width=2\n",
    "        ),\n",
    "    )\n",
    ")\n",
    "\n",
    "layout = go.Layout(\n",
    "    title=\"The Devil's Advocate's Wikipedia Footprints\",\n",
    "    xaxis=dict(\n",
    "        title='Portion of contribution (%)',\n",
    "        gridcolor='rgb(255, 255, 255)',\n",
    "    ),\n",
    "    yaxis=dict(\n",
    "        title='Number of contributions',\n",
    "        gridcolor='rgb(255, 255, 255)',\n",
    "    ),\n",
    "    paper_bgcolor='rgb(243, 243, 243)',\n",
    "    plot_bgcolor='rgb(243, 243, 243)',\n",
    "    autosize=False, width=800, height=600\n",
    ")\n",
    "\n",
    "data=[bubble]\n",
    "fig = go.Figure(data=data, layout=layout)\n",
    "py.iplot(fig, filename=\"The Devil's Advocate-Wikipedia\")"
   ]
  },
  {
   "cell_type": "code",
   "execution_count": null,
   "metadata": {
    "collapsed": true
   },
   "outputs": [],
   "source": []
  }
 ],
 "metadata": {
  "kernelspec": {
   "display_name": "Python 3",
   "language": "python",
   "name": "python3"
  },
  "language_info": {
   "codemirror_mode": {
    "name": "ipython",
    "version": 3
   },
   "file_extension": ".py",
   "mimetype": "text/x-python",
   "name": "python",
   "nbconvert_exporter": "python",
   "pygments_lexer": "ipython3",
   "version": "3.6.3"
  }
 },
 "nbformat": 4,
 "nbformat_minor": 2
}
